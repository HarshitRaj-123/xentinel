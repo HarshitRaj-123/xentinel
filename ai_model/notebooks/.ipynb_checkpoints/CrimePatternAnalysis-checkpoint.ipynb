{
 "cells": [
  {
   "cell_type": "code",
   "execution_count": null,
   "metadata": {
    "vscode": {
     "languageId": "plaintext"
    }
   },
   "outputs": [],
   "source": [
    "# CrimePatternAnalysis.ipynb\n",
    "\n",
    "import pandas as pd\n",
    "import matplotlib.pyplot as plt\n",
    "import seaborn as sns\n",
    "\n",
    "# Load dataset\n",
    "data = pd.read_csv(\"../data/raw/crime_data.csv\")\n",
    "\n",
    "# Display first 5 rows\n",
    "print(data.head())\n",
    "\n",
    "# Check for missing values\n",
    "print(data.isnull().sum())\n",
    "\n",
    "# Distribution of crime types\n",
    "plt.figure(figsize=(10, 6))\n",
    "sns.countplot(y=\"crime_type\", data=data, order=data[\"crime_type\"].value_counts().index)\n",
    "plt.title(\"Distribution of Crime Types\")\n",
    "plt.show()\n",
    "\n",
    "# Word cloud for crime descriptions\n",
    "from wordcloud import WordCloud\n",
    "\n",
    "text = \" \".join(data[\"text\"])\n",
    "wordcloud = WordCloud(width=800, height=400, background_color=\"white\").generate(text)\n",
    "\n",
    "plt.figure(figsize=(10, 6))\n",
    "plt.imshow(wordcloud, interpolation=\"bilinear\")\n",
    "plt.axis(\"off\")\n",
    "plt.title(\"Word Cloud of Crime Descriptions\")\n",
    "plt.show()"
   ]
  }
 ],
 "metadata": {
  "language_info": {
   "name": "python"
  }
 },
 "nbformat": 4,
 "nbformat_minor": 2
}
